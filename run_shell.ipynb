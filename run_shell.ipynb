{
 "cells": [
  {
   "cell_type": "code",
   "execution_count": null,
   "source": [
    "!git clone https://github.com/jiupinjia/stylized-neural-painting\n"
   ],
   "outputs": [],
   "metadata": {}
  },
  {
   "cell_type": "code",
   "execution_count": null,
   "source": [
    "cd stylized-neural-painting\n"
   ],
   "outputs": [],
   "metadata": {}
  },
  {
   "cell_type": "code",
   "execution_count": null,
   "source": [
    "# Define some helper functions for downloading pretrained model\n",
    "# taken from this StackOverflow answer: https://stackoverflow.com/a/39225039\n",
    "import requests\n",
    "\n",
    "def download_file_from_google_drive(id, destination):\n",
    "    URL = \"https://docs.google.com/uc?export=download\"\n",
    "\n",
    "    session = requests.Session()\n",
    "\n",
    "    response = session.get(URL, params = { 'id' : id }, stream = True)\n",
    "    token = get_confirm_token(response)\n",
    "\n",
    "    if token:\n",
    "        params = { 'id' : id, 'confirm' : token }\n",
    "        response = session.get(URL, params = params, stream = True)\n",
    "\n",
    "    save_response_content(response, destination)    \n",
    "\n",
    "def get_confirm_token(response):\n",
    "    for key, value in response.cookies.items():\n",
    "        if key.startswith('download_warning'):\n",
    "            return value\n",
    "\n",
    "    return None\n",
    "\n",
    "def save_response_content(response, destination):\n",
    "    CHUNK_SIZE = 32768\n",
    "\n",
    "    with open(destination, \"wb\") as f:\n",
    "        for chunk in response.iter_content(CHUNK_SIZE):\n",
    "            if chunk: # filter out keep-alive new chunks\n",
    "                f.write(chunk)"
   ],
   "outputs": [],
   "metadata": {}
  },
  {
   "cell_type": "code",
   "execution_count": null,
   "source": [
    "# download and unzip...\n",
    "file_id = '1sqWhgBKqaBJggl2A8sD1bLSq2_B1ScMG'\n",
    "destination = './checkpoints_G_oilpaintbrush.zip'\n",
    "download_file_from_google_drive(file_id, destination)"
   ],
   "outputs": [],
   "metadata": {}
  },
  {
   "cell_type": "code",
   "execution_count": null,
   "source": [
    "!unzip checkpoints_G_oilpaintbrush.zip"
   ],
   "outputs": [],
   "metadata": {}
  },
  {
   "cell_type": "code",
   "execution_count": null,
   "source": [
    "!python demo_prog.py --disable_preview --img_path /content/4.jpeg --canvas_color 'white' --max_m_strokes 500 --max_divide 5 --renderer oilpaintbrush --renderer_checkpoint_dir checkpoints_G_oilpaintbrush --net_G zou-fusion-net\n",
    "# !python demo_prog.py --disable_preview --img_path ./test_images/apple.jpg --canvas_color 'white' --max_m_strokes 500 --max_divide 5 --renderer oilpaintbrush --renderer_checkpoint_dir checkpoints_G_oilpaintbrush --net_G zou-fusion-net\n",
    "# !rm -rf '/content/stylized-neural-painting/output'\n",
    "# !python demo_prog.py --disable_preview --img_path ./test_images/apple.jpg --canvas_color 'white' --max_m_strokes 500 --max_divide 5 --renderer oilpaintbrush --renderer_checkpoint_dir checkpoints_G_oilpaintbrush_light --net_G zou-fusion-net-light\n"
   ],
   "outputs": [],
   "metadata": {}
  },
  {
   "cell_type": "code",
   "execution_count": null,
   "source": [
    "!python demo_prog.py --img_path /Users/chendeen/同步空间/绘画作业/不是人画的-2/4.jpeg --canvas_color 'white' --max_m_strokes 500 --max_divide 5 --renderer oilpaintbrush --renderer_checkpoint_dir checkpoints_G_oilpaintbrush --net_G zou-fusion-net\n"
   ],
   "outputs": [],
   "metadata": {}
  },
  {
   "cell_type": "code",
   "execution_count": null,
   "source": [
    "# 下载文件夹\n",
    "\n",
    "import os, tarfile\n",
    " \n",
    "import os\n",
    "from google.colab import files\n",
    "\n",
    "def make_targz_one_by_one(output_filename, source_dir):\n",
    "  tar = tarfile.open(output_filename,\"w\")\n",
    "  for root,dir_name,files_list in os.walk(source_dir):\n",
    "    for file in files_list:\n",
    "      pathfile = os.path.join(root, file)\n",
    "      tar.add(pathfile)\n",
    "  tar.close()\n",
    " \n",
    "  files.download(output_filename)\n",
    " \n",
    " \n",
    "make_targz_one_by_one('glad_demo_prog', '/content/stylized-neural-painting/output')\n",
    "'''\n",
    "第一个参数:下载文件名(随意设置)，第二个参数需要下载文件夹在coalb的路径\n",
    "'''\n",
    "# # 如需下载单独文件，可运行以下代码:\n",
    "# from google.colab import files\n",
    "# files.download('glove.6B.100d.txt') #参数：文件名\n"
   ],
   "outputs": [],
   "metadata": {}
  }
 ],
 "metadata": {
  "orig_nbformat": 4,
  "language_info": {
   "name": "python"
  }
 },
 "nbformat": 4,
 "nbformat_minor": 2
}